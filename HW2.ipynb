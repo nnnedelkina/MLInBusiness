{
 "cells": [
  {
   "cell_type": "code",
   "execution_count": 1,
   "metadata": {},
   "outputs": [],
   "source": [
    "import pandas as pd"
   ]
  },
  {
   "cell_type": "markdown",
   "metadata": {},
   "source": [
    "Наши новости"
   ]
  },
  {
   "cell_type": "code",
   "execution_count": 2,
   "metadata": {},
   "outputs": [
    {
     "name": "stdout",
     "output_type": "stream",
     "text": [
      "(27000, 2)\n"
     ]
    },
    {
     "data": {
      "text/html": [
       "<div>\n",
       "<style scoped>\n",
       "    .dataframe tbody tr th:only-of-type {\n",
       "        vertical-align: middle;\n",
       "    }\n",
       "\n",
       "    .dataframe tbody tr th {\n",
       "        vertical-align: top;\n",
       "    }\n",
       "\n",
       "    .dataframe thead th {\n",
       "        text-align: right;\n",
       "    }\n",
       "</style>\n",
       "<table border=\"1\" class=\"dataframe\">\n",
       "  <thead>\n",
       "    <tr style=\"text-align: right;\">\n",
       "      <th></th>\n",
       "      <th>doc_id</th>\n",
       "      <th>title</th>\n",
       "    </tr>\n",
       "  </thead>\n",
       "  <tbody>\n",
       "    <tr>\n",
       "      <th>0</th>\n",
       "      <td>6</td>\n",
       "      <td>Заместитель председателяnправительства РФnСерг...</td>\n",
       "    </tr>\n",
       "    <tr>\n",
       "      <th>1</th>\n",
       "      <td>4896</td>\n",
       "      <td>Матч 1/16 финала Кубка России по футболу был п...</td>\n",
       "    </tr>\n",
       "    <tr>\n",
       "      <th>2</th>\n",
       "      <td>4897</td>\n",
       "      <td>Форвард «Авангарда» Томаш Заборский прокоммент...</td>\n",
       "    </tr>\n",
       "  </tbody>\n",
       "</table>\n",
       "</div>"
      ],
      "text/plain": [
       "   doc_id                                              title\n",
       "0       6  Заместитель председателяnправительства РФnСерг...\n",
       "1    4896  Матч 1/16 финала Кубка России по футболу был п...\n",
       "2    4897  Форвард «Авангарда» Томаш Заборский прокоммент..."
      ]
     },
     "execution_count": 2,
     "metadata": {},
     "output_type": "execute_result"
    }
   ],
   "source": [
    "news = pd.read_csv(\"articles.csv\")\n",
    "print(news.shape)\n",
    "news.head(3)"
   ]
  },
  {
   "cell_type": "code",
   "execution_count": null,
   "metadata": {},
   "outputs": [],
   "source": []
  },
  {
   "cell_type": "markdown",
   "metadata": {},
   "source": [
    "Загрузим пользователей и списки последних прочитанных новостей"
   ]
  },
  {
   "cell_type": "code",
   "execution_count": 3,
   "metadata": {},
   "outputs": [
    {
     "data": {
      "text/html": [
       "<div>\n",
       "<style scoped>\n",
       "    .dataframe tbody tr th:only-of-type {\n",
       "        vertical-align: middle;\n",
       "    }\n",
       "\n",
       "    .dataframe tbody tr th {\n",
       "        vertical-align: top;\n",
       "    }\n",
       "\n",
       "    .dataframe thead th {\n",
       "        text-align: right;\n",
       "    }\n",
       "</style>\n",
       "<table border=\"1\" class=\"dataframe\">\n",
       "  <thead>\n",
       "    <tr style=\"text-align: right;\">\n",
       "      <th></th>\n",
       "      <th>uid</th>\n",
       "      <th>articles</th>\n",
       "    </tr>\n",
       "  </thead>\n",
       "  <tbody>\n",
       "    <tr>\n",
       "      <th>0</th>\n",
       "      <td>u105138</td>\n",
       "      <td>[293672, 293328, 293001, 293622, 293126, 1852]</td>\n",
       "    </tr>\n",
       "    <tr>\n",
       "      <th>1</th>\n",
       "      <td>u108690</td>\n",
       "      <td>[3405, 1739, 2972, 1158, 1599, 322665]</td>\n",
       "    </tr>\n",
       "    <tr>\n",
       "      <th>2</th>\n",
       "      <td>u108339</td>\n",
       "      <td>[1845, 2009, 2356, 1424, 2939, 323389]</td>\n",
       "    </tr>\n",
       "  </tbody>\n",
       "</table>\n",
       "</div>"
      ],
      "text/plain": [
       "       uid                                        articles\n",
       "0  u105138  [293672, 293328, 293001, 293622, 293126, 1852]\n",
       "1  u108690          [3405, 1739, 2972, 1158, 1599, 322665]\n",
       "2  u108339          [1845, 2009, 2356, 1424, 2939, 323389]"
      ]
     },
     "execution_count": 3,
     "metadata": {},
     "output_type": "execute_result"
    }
   ],
   "source": [
    "users = pd.read_csv(\"users_articles.csv\")\n",
    "users.head(3)"
   ]
  },
  {
   "cell_type": "markdown",
   "metadata": {},
   "source": [
    "Итак, нам нужно получить векторные представления пользователей на основе прочитанным ими новостей и самих новостей"
   ]
  },
  {
   "cell_type": "markdown",
   "metadata": {},
   "source": [
    "### 1. Получаем векторные представления новостей"
   ]
  },
  {
   "cell_type": "code",
   "execution_count": 4,
   "metadata": {},
   "outputs": [],
   "source": [
    "#from gensim.test.utils import common_texts\n",
    "from gensim.corpora.dictionary import Dictionary"
   ]
  },
  {
   "cell_type": "code",
   "execution_count": 5,
   "metadata": {},
   "outputs": [],
   "source": [
    "#предобработка текстов\n",
    "import re\n",
    "import numpy as np\n",
    "from nltk.corpus import stopwords\n",
    "#from nltk.tokenize import word_tokenize\n",
    "\n",
    "from razdel import tokenize # https://github.com/natasha/razdel\n",
    "#!pip install razdel\n",
    "\n",
    "import pymorphy2  # pip install pymorphy2"
   ]
  },
  {
   "cell_type": "code",
   "execution_count": 6,
   "metadata": {},
   "outputs": [
    {
     "data": {
      "text/plain": [
       "['и',\n",
       " 'в',\n",
       " 'во',\n",
       " 'не',\n",
       " 'что',\n",
       " 'он',\n",
       " 'на',\n",
       " 'я',\n",
       " 'с',\n",
       " 'со',\n",
       " 'как',\n",
       " 'а',\n",
       " 'то',\n",
       " 'все',\n",
       " 'она',\n",
       " 'так',\n",
       " 'его',\n",
       " 'но',\n",
       " 'да',\n",
       " 'ты',\n",
       " 'к',\n",
       " 'у',\n",
       " 'же',\n",
       " 'вы',\n",
       " 'за',\n",
       " 'бы',\n",
       " 'по',\n",
       " 'только',\n",
       " 'ее',\n",
       " 'мне',\n",
       " 'было',\n",
       " 'вот',\n",
       " 'от',\n",
       " 'меня',\n",
       " 'еще',\n",
       " 'нет',\n",
       " 'о',\n",
       " 'из',\n",
       " 'ему',\n",
       " 'теперь',\n",
       " 'когда',\n",
       " 'даже',\n",
       " 'ну',\n",
       " 'вдруг',\n",
       " 'ли',\n",
       " 'если',\n",
       " 'уже',\n",
       " 'или',\n",
       " 'ни',\n",
       " 'быть',\n",
       " 'был',\n",
       " 'него',\n",
       " 'до',\n",
       " 'вас',\n",
       " 'нибудь',\n",
       " 'опять',\n",
       " 'уж',\n",
       " 'вам',\n",
       " 'ведь',\n",
       " 'там',\n",
       " 'потом',\n",
       " 'себя',\n",
       " 'ничего',\n",
       " 'ей',\n",
       " 'может',\n",
       " 'они',\n",
       " 'тут',\n",
       " 'где',\n",
       " 'есть',\n",
       " 'надо',\n",
       " 'ней',\n",
       " 'для',\n",
       " 'мы',\n",
       " 'тебя',\n",
       " 'их',\n",
       " 'чем',\n",
       " 'была',\n",
       " 'сам',\n",
       " 'чтоб',\n",
       " 'без',\n",
       " 'будто',\n",
       " 'чего',\n",
       " 'раз',\n",
       " 'тоже',\n",
       " 'себе',\n",
       " 'под',\n",
       " 'будет',\n",
       " 'ж',\n",
       " 'тогда',\n",
       " 'кто',\n",
       " 'этот',\n",
       " 'того',\n",
       " 'потому',\n",
       " 'этого',\n",
       " 'какой',\n",
       " 'совсем',\n",
       " 'ним',\n",
       " 'здесь',\n",
       " 'этом',\n",
       " 'один',\n",
       " 'почти',\n",
       " 'мой',\n",
       " 'тем',\n",
       " 'чтобы',\n",
       " 'нее',\n",
       " 'сейчас',\n",
       " 'были',\n",
       " 'куда',\n",
       " 'зачем',\n",
       " 'всех',\n",
       " 'никогда',\n",
       " 'можно',\n",
       " 'при',\n",
       " 'наконец',\n",
       " 'два',\n",
       " 'об',\n",
       " 'другой',\n",
       " 'хоть',\n",
       " 'после',\n",
       " 'над',\n",
       " 'больше',\n",
       " 'тот',\n",
       " 'через',\n",
       " 'эти',\n",
       " 'нас',\n",
       " 'про',\n",
       " 'всего',\n",
       " 'них',\n",
       " 'какая',\n",
       " 'много',\n",
       " 'разве',\n",
       " 'три',\n",
       " 'эту',\n",
       " 'моя',\n",
       " 'впрочем',\n",
       " 'хорошо',\n",
       " 'свою',\n",
       " 'этой',\n",
       " 'перед',\n",
       " 'иногда',\n",
       " 'лучше',\n",
       " 'чуть',\n",
       " 'том',\n",
       " 'нельзя',\n",
       " 'такой',\n",
       " 'им',\n",
       " 'более',\n",
       " 'всегда',\n",
       " 'конечно',\n",
       " 'всю',\n",
       " 'между']"
      ]
     },
     "execution_count": 6,
     "metadata": {},
     "output_type": "execute_result"
    }
   ],
   "source": [
    "stopword_ru = stopwords.words('russian')\n",
    "len(stopword_ru)\n",
    "\n",
    "stopword_ru"
   ]
  },
  {
   "cell_type": "code",
   "execution_count": 7,
   "metadata": {},
   "outputs": [],
   "source": [
    "morph = pymorphy2.MorphAnalyzer()\n"
   ]
  },
  {
   "cell_type": "code",
   "execution_count": 8,
   "metadata": {},
   "outputs": [
    {
     "data": {
      "text/plain": [
       "778"
      ]
     },
     "execution_count": 8,
     "metadata": {},
     "output_type": "execute_result"
    }
   ],
   "source": [
    "with open('stopwords.txt') as f:\n",
    "    additional_stopwords = [w.strip() for w in f.readlines() if w]\n",
    "stopword_ru += additional_stopwords\n",
    "stopword_ru += ['nn', 'nnn']\n",
    "len(stopword_ru)"
   ]
  },
  {
   "cell_type": "code",
   "execution_count": 9,
   "metadata": {},
   "outputs": [],
   "source": [
    "def clean_text(text):\n",
    "    '''\n",
    "    очистка текста\n",
    "    \n",
    "    на выходе очищеный текст\n",
    "    \n",
    "    '''\n",
    "    if not isinstance(text, str):\n",
    "        text = str(text)\n",
    "    \n",
    "    text = text.lower()\n",
    "    text = text.strip('\\n').strip('\\r').strip('\\t')\n",
    "#    text = re.sub(r\"-\\s\\r\\n\\|-\\s\\r\\n|\\r\\n\", '', text)\n",
    "    text = re.sub(r\"-\\s*\\r\\n|-\\s*\\n|-\\s*\\r\", '', text)  # переносы\n",
    "    text = re.sub(r\"[0-9]|[-—.,:;_%©«»?*!@#№$^•·&()]|[+=]|[[]|[]]|[/]\", ' ', text)\n",
    "    text = re.sub(r\"\\r\\n\\t|\\n|\\s|\\r\\t|\\\\n\", ' ', text) # нормализация пробелы \n",
    "    text = re.sub(r'[\\xad\\s]+', ' ', text.strip()) # сокращение пробелов\n",
    "    \n",
    "    #tokens = list(tokenize(text))\n",
    "    #words = [_.text for _ in tokens]\n",
    "    #words = [w for w in words if w not in stopword_ru]\n",
    "    \n",
    "    #return \" \".join(words)\n",
    "    return text\n",
    "\n",
    "cache = {}\n",
    "\n",
    "def lemmatization(text):\n",
    "    '''\n",
    "    лемматизация\n",
    "        [0] если зашел тип не `str` делаем его `str`\n",
    "        [1] токенизация предложения через razdel\n",
    "        [2] проверка есть ли в начале слова '-'\n",
    "        [3] проверка токена с одного символа\n",
    "        [4] проверка есть ли данное слово в кэше\n",
    "        [5] лемматизация слова\n",
    "        [6] проверка на стоп-слова\n",
    "\n",
    "    на выходе лист отлемматизированых токенов\n",
    "    '''\n",
    "\n",
    "    # [0]\n",
    "    if not isinstance(text, str):\n",
    "        text = str(text)\n",
    "    \n",
    "    # [1]\n",
    "    tokens = list(tokenize(text))\n",
    "    words = [_.text for _ in tokens]\n",
    "\n",
    "    words_lem = []\n",
    "    for w in words:\n",
    "        if w[0] == '-': # [2]\n",
    "            w = w[1:]\n",
    "        if len(w)>1: # [3]\n",
    "            if w in cache: # [4]\n",
    "                words_lem.append(cache[w])\n",
    "            else: # [5]\n",
    "                temp_cach = cache[w] = morph.parse(w)[0].normal_form\n",
    "                words_lem.append(temp_cach)\n",
    "    \n",
    "    words_lem_without_stopwords=[i for i in words_lem if not i in stopword_ru] # [6]\n",
    "    \n",
    "    return words_lem_without_stopwords"
   ]
  },
  {
   "cell_type": "code",
   "execution_count": 10,
   "metadata": {},
   "outputs": [
    {
     "data": {
      "text/plain": [
       "'Заместитель председателяnправительства РФnСергейnИвановnизбран председателем советаnПБК ЦСКАn. Как сообщаетnпресс-службаnармейцев, такое решение было единогласно принято на первом заседании совета клуба. Основной функцией этого органа будет обсуждение текущего состояния, планирование и утверждение стратегии развития клуба на ближайшую перспективу.nnВ состав совета вошли:nГеоргий Полтавченкоn(полномочный представитель президента в Центральном федеральном округе),nАлексей Седовn(генерал-полковник, начальник службы по защите конституционного строя и борьбе с терроризмомnФСБ РФn),nАлександр Новакn(заместитель министра финансов РФ),nВячеслав Полтавцевn(заместитель генерального директора, руководитель блока по взаимодействию с органами власти, социальной и корпоративной политикиnГМК «Норильский никель»n),nЛеонид Исаковичn(генеральный директор ООО «УК «Спортивные проекты»),nОльга Плешаковаn(генеральный директорn«Трансаэро»n),nАлександр Провоторовn, (генеральный директорnОАО «Ростелеком»n), Андрей Лопатов (экс-игрок ЦСКА, чемпион мира, трехкратный чемпион Европы по баскетболу, председатель правленияnбанка «Клиентский»n),nАндрей Ватутинn(президент ПБК ЦСКА).'"
      ]
     },
     "execution_count": 10,
     "metadata": {},
     "output_type": "execute_result"
    }
   ],
   "source": [
    "news['title'][0]"
   ]
  },
  {
   "cell_type": "code",
   "execution_count": 11,
   "metadata": {
    "scrolled": true
   },
   "outputs": [
    {
     "name": "stderr",
     "output_type": "stream",
     "text": [
      "C:\\ProgramData\\Anaconda3\\lib\\site-packages\\ipykernel_launcher.py:15: FutureWarning: Possible nested set at position 39\n",
      "  from ipykernel import kernelapp as app\n"
     ]
    },
    {
     "name": "stdout",
     "output_type": "stream",
     "text": [
      "Wall time: 10.7 s\n"
     ]
    }
   ],
   "source": [
    "%%time\n",
    "#Запускаем очистку текста. Будет долго...\n",
    "news['title'] = news['title'].apply(lambda x: clean_text(x), 1)"
   ]
  },
  {
   "cell_type": "code",
   "execution_count": 12,
   "metadata": {},
   "outputs": [
    {
     "name": "stdout",
     "output_type": "stream",
     "text": [
      "Wall time: 2min 59s\n"
     ]
    }
   ],
   "source": [
    "%%time\n",
    "#Запускаем лемматизацию текста. Будет очень долго...\n",
    "news['title'] = news['title'].apply(lambda x: lemmatization(x), 1)"
   ]
  },
  {
   "cell_type": "code",
   "execution_count": 13,
   "metadata": {},
   "outputs": [
    {
     "data": {
      "text/plain": [
       "['заместитель',\n",
       " 'председатель',\n",
       " 'правительство',\n",
       " 'рф',\n",
       " 'сергей',\n",
       " 'иванов',\n",
       " 'избрать',\n",
       " 'председатель',\n",
       " 'совет',\n",
       " 'пбк',\n",
       " 'цска',\n",
       " 'сообщать',\n",
       " 'пресс',\n",
       " 'служба',\n",
       " 'армеец',\n",
       " 'решение',\n",
       " 'единогласно',\n",
       " 'принять',\n",
       " 'первый',\n",
       " 'заседание',\n",
       " 'совет',\n",
       " 'клуб',\n",
       " 'основной',\n",
       " 'функция',\n",
       " 'это',\n",
       " 'орган',\n",
       " 'обсуждение',\n",
       " 'текущий',\n",
       " 'состояние',\n",
       " 'планирование',\n",
       " 'утверждение',\n",
       " 'стратегия',\n",
       " 'развитие',\n",
       " 'клуб',\n",
       " 'близкий',\n",
       " 'перспектива',\n",
       " 'состав',\n",
       " 'совет',\n",
       " 'войти',\n",
       " 'георгий',\n",
       " 'полтавченко',\n",
       " 'полномочный',\n",
       " 'представитель',\n",
       " 'президент',\n",
       " 'центральный',\n",
       " 'федеральный',\n",
       " 'округ',\n",
       " 'алексей',\n",
       " 'седов',\n",
       " 'генерал',\n",
       " 'полковник',\n",
       " 'начальник',\n",
       " 'служба',\n",
       " 'защита',\n",
       " 'конституционный',\n",
       " 'строй',\n",
       " 'борьба',\n",
       " 'терроризм',\n",
       " 'фсб',\n",
       " 'рф',\n",
       " 'александр',\n",
       " 'новак',\n",
       " 'заместитель',\n",
       " 'министр',\n",
       " 'финансы',\n",
       " 'рф',\n",
       " 'вячеслав',\n",
       " 'полтавец',\n",
       " 'заместитель',\n",
       " 'генеральный',\n",
       " 'директор',\n",
       " 'руководитель',\n",
       " 'блок',\n",
       " 'взаимодействие',\n",
       " 'орган',\n",
       " 'власть',\n",
       " 'социальный',\n",
       " 'корпоративный',\n",
       " 'политика',\n",
       " 'гмк',\n",
       " 'норильский',\n",
       " 'никель',\n",
       " 'леонид',\n",
       " 'исакович',\n",
       " 'генеральный',\n",
       " 'директор',\n",
       " 'ооо',\n",
       " 'ук',\n",
       " 'спортивный',\n",
       " 'проект',\n",
       " 'ольга',\n",
       " 'плешаков',\n",
       " 'генеральный',\n",
       " 'директор',\n",
       " 'трансаэро',\n",
       " 'александр',\n",
       " 'провоторов',\n",
       " 'генеральный',\n",
       " 'директор',\n",
       " 'оао',\n",
       " 'ростелеком',\n",
       " 'андрей',\n",
       " 'лопат',\n",
       " 'экс',\n",
       " 'игрок',\n",
       " 'цска',\n",
       " 'чемпион',\n",
       " 'мир',\n",
       " 'трёхкратный',\n",
       " 'чемпион',\n",
       " 'европа',\n",
       " 'баскетбол',\n",
       " 'председатель',\n",
       " 'правление',\n",
       " 'банк',\n",
       " 'клиентский',\n",
       " 'андрей',\n",
       " 'ватутин',\n",
       " 'президент',\n",
       " 'пбк',\n",
       " 'цска']"
      ]
     },
     "execution_count": 13,
     "metadata": {},
     "output_type": "execute_result"
    }
   ],
   "source": [
    "news['title'][0]"
   ]
  },
  {
   "cell_type": "markdown",
   "metadata": {},
   "source": [
    "А теперь в 3 строчки обучим нашу модель"
   ]
  },
  {
   "cell_type": "code",
   "execution_count": 14,
   "metadata": {},
   "outputs": [],
   "source": [
    "texts = [t for t in news['title'].values] #[3:]\n"
   ]
  },
  {
   "cell_type": "code",
   "execution_count": 15,
   "metadata": {},
   "outputs": [],
   "source": [
    "# Create a corpus from a list of texts\n",
    "common_dictionary = Dictionary(texts)\n",
    "common_corpus = [common_dictionary.doc2bow(text) for text in texts]"
   ]
  },
  {
   "cell_type": "markdown",
   "metadata": {},
   "source": [
    "Что такое common_dictionary и как он выглядит"
   ]
  },
  {
   "cell_type": "code",
   "execution_count": 16,
   "metadata": {},
   "outputs": [
    {
     "data": {
      "text/plain": [
       "'александр'"
      ]
     },
     "execution_count": 16,
     "metadata": {},
     "output_type": "execute_result"
    }
   ],
   "source": [
    "common_dictionary[0]"
   ]
  },
  {
   "cell_type": "code",
   "execution_count": 17,
   "metadata": {},
   "outputs": [
    {
     "data": {
      "text/plain": [
       "[('александр', 2),\n",
       " ('алексей', 1),\n",
       " ('андрей', 2),\n",
       " ('армеец', 1),\n",
       " ('банк', 1),\n",
       " ('баскетбол', 1),\n",
       " ('близкий', 1),\n",
       " ('блок', 1),\n",
       " ('борьба', 1),\n",
       " ('ватутин', 1)]"
      ]
     },
     "execution_count": 17,
     "metadata": {},
     "output_type": "execute_result"
    }
   ],
   "source": [
    "[(common_dictionary[i], f) for (i, f) in common_corpus[0]][0:10]"
   ]
  },
  {
   "cell_type": "markdown",
   "metadata": {},
   "source": [
    "Запускаем обучение"
   ]
  },
  {
   "cell_type": "code",
   "execution_count": 18,
   "metadata": {},
   "outputs": [
    {
     "name": "stdout",
     "output_type": "stream",
     "text": [
      "Wall time: 34.2 s\n"
     ]
    }
   ],
   "source": [
    "%%time\n",
    "from gensim.models import LdaModel\n",
    "# Train the model on the corpus.\n",
    "lda = LdaModel(common_corpus, num_topics=25, id2word=common_dictionary, random_state=42)#, passes=10)"
   ]
  },
  {
   "cell_type": "code",
   "execution_count": 19,
   "metadata": {},
   "outputs": [],
   "source": [
    "from gensim.test.utils import datapath\n",
    "# Save model to disk.\n",
    "temp_file = datapath(\"model.lda\")\n",
    "lda.save(temp_file)\n"
   ]
  },
  {
   "cell_type": "code",
   "execution_count": 20,
   "metadata": {},
   "outputs": [],
   "source": [
    "# Load a potentially pretrained model from disk.\n",
    "lda = LdaModel.load(temp_file)"
   ]
  },
  {
   "cell_type": "markdown",
   "metadata": {},
   "source": [
    "Обучили модель. Теперь 2 вопроса:\n",
    "\n",
    "1. как выглядят наши темы\n",
    "2. как получить для документа вектор значений (вероятности принадлежности каждой теме)"
   ]
  },
  {
   "cell_type": "code",
   "execution_count": 21,
   "metadata": {},
   "outputs": [
    {
     "data": {
      "text/plain": [
       "[['заместитель',\n",
       "  'председатель',\n",
       "  'правительство',\n",
       "  'рф',\n",
       "  'сергей',\n",
       "  'иванов',\n",
       "  'избрать',\n",
       "  'председатель',\n",
       "  'совет',\n",
       "  'пбк',\n",
       "  'цска',\n",
       "  'сообщать',\n",
       "  'пресс',\n",
       "  'служба',\n",
       "  'армеец',\n",
       "  'решение',\n",
       "  'единогласно',\n",
       "  'принять',\n",
       "  'первый',\n",
       "  'заседание',\n",
       "  'совет',\n",
       "  'клуб',\n",
       "  'основной',\n",
       "  'функция',\n",
       "  'это',\n",
       "  'орган',\n",
       "  'обсуждение',\n",
       "  'текущий',\n",
       "  'состояние',\n",
       "  'планирование',\n",
       "  'утверждение',\n",
       "  'стратегия',\n",
       "  'развитие',\n",
       "  'клуб',\n",
       "  'близкий',\n",
       "  'перспектива',\n",
       "  'состав',\n",
       "  'совет',\n",
       "  'войти',\n",
       "  'георгий',\n",
       "  'полтавченко',\n",
       "  'полномочный',\n",
       "  'представитель',\n",
       "  'президент',\n",
       "  'центральный',\n",
       "  'федеральный',\n",
       "  'округ',\n",
       "  'алексей',\n",
       "  'седов',\n",
       "  'генерал',\n",
       "  'полковник',\n",
       "  'начальник',\n",
       "  'служба',\n",
       "  'защита',\n",
       "  'конституционный',\n",
       "  'строй',\n",
       "  'борьба',\n",
       "  'терроризм',\n",
       "  'фсб',\n",
       "  'рф',\n",
       "  'александр',\n",
       "  'новак',\n",
       "  'заместитель',\n",
       "  'министр',\n",
       "  'финансы',\n",
       "  'рф',\n",
       "  'вячеслав',\n",
       "  'полтавец',\n",
       "  'заместитель',\n",
       "  'генеральный',\n",
       "  'директор',\n",
       "  'руководитель',\n",
       "  'блок',\n",
       "  'взаимодействие',\n",
       "  'орган',\n",
       "  'власть',\n",
       "  'социальный',\n",
       "  'корпоративный',\n",
       "  'политика',\n",
       "  'гмк',\n",
       "  'норильский',\n",
       "  'никель',\n",
       "  'леонид',\n",
       "  'исакович',\n",
       "  'генеральный',\n",
       "  'директор',\n",
       "  'ооо',\n",
       "  'ук',\n",
       "  'спортивный',\n",
       "  'проект',\n",
       "  'ольга',\n",
       "  'плешаков',\n",
       "  'генеральный',\n",
       "  'директор',\n",
       "  'трансаэро',\n",
       "  'александр',\n",
       "  'провоторов',\n",
       "  'генеральный',\n",
       "  'директор',\n",
       "  'оао',\n",
       "  'ростелеком',\n",
       "  'андрей',\n",
       "  'лопат',\n",
       "  'экс',\n",
       "  'игрок',\n",
       "  'цска',\n",
       "  'чемпион',\n",
       "  'мир',\n",
       "  'трёхкратный',\n",
       "  'чемпион',\n",
       "  'европа',\n",
       "  'баскетбол',\n",
       "  'председатель',\n",
       "  'правление',\n",
       "  'банк',\n",
       "  'клиентский',\n",
       "  'андрей',\n",
       "  'ватутин',\n",
       "  'президент',\n",
       "  'пбк',\n",
       "  'цска'],\n",
       " ['матч',\n",
       "  'финал',\n",
       "  'кубок',\n",
       "  'россия',\n",
       "  'футбол',\n",
       "  'приостановить',\n",
       "  'судья',\n",
       "  'взрыв',\n",
       "  'пиротехнический',\n",
       "  'снаряд',\n",
       "  'передавать',\n",
       "  'корреспондент',\n",
       "  'газета',\n",
       "  'ru',\n",
       "  'болельщик',\n",
       "  'выбросить',\n",
       "  'поле',\n",
       "  'петарда',\n",
       "  'судья',\n",
       "  'увести',\n",
       "  'команда',\n",
       "  'поле',\n",
       "  'подтрибунный',\n",
       "  'помещение',\n",
       "  'динамовец',\n",
       "  'уйти',\n",
       "  'торпедовец',\n",
       "  'остаться',\n",
       "  'кромка',\n",
       "  'поле',\n",
       "  'сообщаться',\n",
       "  'матч',\n",
       "  'остановить',\n",
       "  'пять',\n",
       "  'минута',\n",
       "  'газета',\n",
       "  'ru',\n",
       "  'вести',\n",
       "  'онлайн',\n",
       "  'трансляция',\n",
       "  'это',\n",
       "  'матч'],\n",
       " ['форвард',\n",
       "  'авангард',\n",
       "  'томаш',\n",
       "  'заборский',\n",
       "  'прокомментировать',\n",
       "  'игра',\n",
       "  'свой',\n",
       "  'команда',\n",
       "  'матч',\n",
       "  'чемпионат',\n",
       "  'кхл',\n",
       "  'против',\n",
       "  'атланта',\n",
       "  'провести',\n",
       "  'плохой',\n",
       "  'матч',\n",
       "  'нижний',\n",
       "  'новгород',\n",
       "  'против',\n",
       "  'торпедо',\n",
       "  'настраиваться',\n",
       "  'первый',\n",
       "  'минута',\n",
       "  'включиться',\n",
       "  'работа',\n",
       "  'сказать',\n",
       "  'заборский',\n",
       "  'получиться',\n",
       "  'забросить',\n",
       "  'быстрый',\n",
       "  'гол',\n",
       "  'задать',\n",
       "  'хороший',\n",
       "  'темп',\n",
       "  'поединок',\n",
       "  'мочь',\n",
       "  'играть',\n",
       "  'ещё',\n",
       "  'хороший',\n",
       "  'сторона',\n",
       "  'пять',\n",
       "  'очко',\n",
       "  'выезд',\n",
       "  'девять',\n",
       "  'это',\n",
       "  'хороший']]"
      ]
     },
     "execution_count": 21,
     "metadata": {},
     "output_type": "execute_result"
    }
   ],
   "source": [
    "# Create a new corpus, made of previously unseen documents.\n",
    "other_texts = [t for t in news['title'].iloc[:3]]\n",
    "other_texts"
   ]
  },
  {
   "cell_type": "code",
   "execution_count": 22,
   "metadata": {},
   "outputs": [
    {
     "data": {
      "text/plain": [
       "[('александр', 2),\n",
       " ('алексей', 1),\n",
       " ('андрей', 2),\n",
       " ('армеец', 1),\n",
       " ('банк', 1),\n",
       " ('баскетбол', 1),\n",
       " ('близкий', 1),\n",
       " ('блок', 1),\n",
       " ('борьба', 1),\n",
       " ('ватутин', 1)]"
      ]
     },
     "execution_count": 22,
     "metadata": {},
     "output_type": "execute_result"
    }
   ],
   "source": [
    "other_corpus = [common_dictionary.doc2bow(text) for text in other_texts]\n",
    "[(common_dictionary[i], f) for (i, f) in other_corpus[0]][0:10]"
   ]
  },
  {
   "cell_type": "code",
   "execution_count": 23,
   "metadata": {},
   "outputs": [
    {
     "data": {
      "text/plain": [
       "[(6, 0.0122140795),\n",
       " (11, 0.029155431),\n",
       " (14, 0.030824719),\n",
       " (19, 0.6027989),\n",
       " (21, 0.30806276)]"
      ]
     },
     "execution_count": 23,
     "metadata": {},
     "output_type": "execute_result"
    }
   ],
   "source": [
    "unseen_doc = other_corpus[0]\n",
    "lda[unseen_doc] "
   ]
  },
  {
   "cell_type": "code",
   "execution_count": 24,
   "metadata": {},
   "outputs": [
    {
     "name": "stdout",
     "output_type": "stream",
     "text": [
      "topic_0: военный украина год гражданин украинский российский наука россия земля взрыв\n",
      "topic_1: статья египет порт океан планета адмирал следствие теоретически нейтральный смит\n",
      "topic_2: погибнуть человек который памятник год город знаменитый узнать бой параметр\n",
      "topic_3: джордж сопротивляться джеймс переместиться эммануэль индиана тайлера мэн форсайт коваленко\n",
      "topic_4: регион область температура рак эксперимент это россия проверка министр развитие\n",
      "topic_5: это всё который мочь свой земля весь время день человек\n",
      "topic_6: год млн составить стоимость доллар цена общий рынок сумма рейтинг\n",
      "topic_7: это год который россия мочь работа российский весь новый свой\n",
      "topic_8: год это который компания млрд страна экономика цена первый стать\n",
      "topic_9: журнал японский япония устойчивый ми антонов акула недостоверный модный корея\n",
      "topic_10: это журнал который свет общество человек девочка всё сократиться больной\n",
      "topic_11: напомнить характерный свидетель звонок пищевой ведение явиться инвестировать точнее следствие\n",
      "topic_12: исследование пациент северный болезнь километр лечение фонд мозг турецкий штат\n",
      "topic_13: ракета солнце налог система производитель катастрофа блок это высота граница\n",
      "topic_14: русский открытие выдать бомба долг лекарство фильм который это год\n",
      "topic_15: рост год население пенсия доход товар прогноз увеличение уровень ниже\n",
      "topic_16: исследование обнаружить мужчина научный час км результат район пострадать станция\n",
      "topic_17: превысить индия гражданство лос медведь анджелес рисунок дорого печальный дама\n",
      "topic_18: com напомнить кость бензин гагарин корь год предсказывать новосибирский воспаление\n",
      "topic_19: год рубль москва суд банк компания проект который статья продукция\n",
      "topic_20: дело который человек это россия год свой сотрудник суд российский\n",
      "topic_21: газ который это сша фонд россия год также страна свой\n",
      "topic_22: ребёнок закон законопроект женщина препарат документ рубль налоговый родитель исследование\n",
      "topic_23: научный активность доклад фестиваль объект захватить вуз россия израиль территория\n",
      "topic_24: год человек который тело это писать выяснить смерть стать жизнь\n"
     ]
    }
   ],
   "source": [
    "x=lda.show_topics(num_topics=25, num_words=10,formatted=False)\n",
    "topics_words = [(tp[0], [wd[0] for wd in tp[1]]) for tp in x]\n",
    "\n",
    "#Below Code Prints Only Words \n",
    "for topic,words in topics_words:\n",
    "    print(\"topic_{}: \".format(topic)+\" \".join(words))"
   ]
  },
  {
   "cell_type": "markdown",
   "metadata": {},
   "source": [
    "Очень неплохо - большинство тем вполне можно описать о чем они"
   ]
  },
  {
   "cell_type": "markdown",
   "metadata": {},
   "source": [
    "Давайте напишем функцию, которая будет нам возвращать векторное представление новости"
   ]
  },
  {
   "cell_type": "code",
   "execution_count": 25,
   "metadata": {},
   "outputs": [],
   "source": [
    "#text = news['title'].iloc[0]\n",
    "\n",
    "def get_lda_vector(text):\n",
    "    unseen_doc = common_dictionary.doc2bow(text)\n",
    "    lda_tuple = lda[unseen_doc]\n",
    "#    not_null_topics = dict(zip([i[0] for i in lda_tuple], [i[1] for i in lda_tuple]))\n",
    "    not_null_topics = dict(lda_tuple)\n",
    "\n",
    "    output_vector = []\n",
    "    for i in range(25):\n",
    "        if i not in not_null_topics:\n",
    "            output_vector.append(0)\n",
    "        else:\n",
    "            output_vector.append(not_null_topics[i])\n",
    "    return np.array(output_vector)"
   ]
  },
  {
   "cell_type": "code",
   "execution_count": 26,
   "metadata": {},
   "outputs": [
    {
     "data": {
      "text/html": [
       "<div>\n",
       "<style scoped>\n",
       "    .dataframe tbody tr th:only-of-type {\n",
       "        vertical-align: middle;\n",
       "    }\n",
       "\n",
       "    .dataframe tbody tr th {\n",
       "        vertical-align: top;\n",
       "    }\n",
       "\n",
       "    .dataframe thead th {\n",
       "        text-align: right;\n",
       "    }\n",
       "</style>\n",
       "<table border=\"1\" class=\"dataframe\">\n",
       "  <thead>\n",
       "    <tr style=\"text-align: right;\">\n",
       "      <th></th>\n",
       "      <th>doc_id</th>\n",
       "      <th>topic_0</th>\n",
       "      <th>topic_1</th>\n",
       "      <th>topic_2</th>\n",
       "      <th>topic_3</th>\n",
       "      <th>topic_4</th>\n",
       "      <th>topic_5</th>\n",
       "      <th>topic_6</th>\n",
       "      <th>topic_7</th>\n",
       "      <th>topic_8</th>\n",
       "      <th>...</th>\n",
       "      <th>topic_15</th>\n",
       "      <th>topic_16</th>\n",
       "      <th>topic_17</th>\n",
       "      <th>topic_18</th>\n",
       "      <th>topic_19</th>\n",
       "      <th>topic_20</th>\n",
       "      <th>topic_21</th>\n",
       "      <th>topic_22</th>\n",
       "      <th>topic_23</th>\n",
       "      <th>topic_24</th>\n",
       "    </tr>\n",
       "  </thead>\n",
       "  <tbody>\n",
       "    <tr>\n",
       "      <th>0</th>\n",
       "      <td>6</td>\n",
       "      <td>0.000000</td>\n",
       "      <td>0.0</td>\n",
       "      <td>0.000000</td>\n",
       "      <td>0.0</td>\n",
       "      <td>0.0</td>\n",
       "      <td>0.000000</td>\n",
       "      <td>0.012208</td>\n",
       "      <td>0.0</td>\n",
       "      <td>0.0</td>\n",
       "      <td>...</td>\n",
       "      <td>0.0</td>\n",
       "      <td>0.0</td>\n",
       "      <td>0.0</td>\n",
       "      <td>0.000000</td>\n",
       "      <td>0.602529</td>\n",
       "      <td>0.0</td>\n",
       "      <td>0.308382</td>\n",
       "      <td>0.0</td>\n",
       "      <td>0.000000</td>\n",
       "      <td>0.000000</td>\n",
       "    </tr>\n",
       "    <tr>\n",
       "      <th>1</th>\n",
       "      <td>4896</td>\n",
       "      <td>0.421206</td>\n",
       "      <td>0.0</td>\n",
       "      <td>0.370748</td>\n",
       "      <td>0.0</td>\n",
       "      <td>0.0</td>\n",
       "      <td>0.000000</td>\n",
       "      <td>0.000000</td>\n",
       "      <td>0.0</td>\n",
       "      <td>0.0</td>\n",
       "      <td>...</td>\n",
       "      <td>0.0</td>\n",
       "      <td>0.0</td>\n",
       "      <td>0.0</td>\n",
       "      <td>0.000000</td>\n",
       "      <td>0.000000</td>\n",
       "      <td>0.0</td>\n",
       "      <td>0.000000</td>\n",
       "      <td>0.0</td>\n",
       "      <td>0.000000</td>\n",
       "      <td>0.186023</td>\n",
       "    </tr>\n",
       "    <tr>\n",
       "      <th>2</th>\n",
       "      <td>4897</td>\n",
       "      <td>0.000000</td>\n",
       "      <td>0.0</td>\n",
       "      <td>0.000000</td>\n",
       "      <td>0.0</td>\n",
       "      <td>0.0</td>\n",
       "      <td>0.701243</td>\n",
       "      <td>0.000000</td>\n",
       "      <td>0.0</td>\n",
       "      <td>0.0</td>\n",
       "      <td>...</td>\n",
       "      <td>0.0</td>\n",
       "      <td>0.0</td>\n",
       "      <td>0.0</td>\n",
       "      <td>0.277822</td>\n",
       "      <td>0.000000</td>\n",
       "      <td>0.0</td>\n",
       "      <td>0.000000</td>\n",
       "      <td>0.0</td>\n",
       "      <td>0.000000</td>\n",
       "      <td>0.000000</td>\n",
       "    </tr>\n",
       "    <tr>\n",
       "      <th>3</th>\n",
       "      <td>4898</td>\n",
       "      <td>0.229552</td>\n",
       "      <td>0.0</td>\n",
       "      <td>0.197195</td>\n",
       "      <td>0.0</td>\n",
       "      <td>0.0</td>\n",
       "      <td>0.481303</td>\n",
       "      <td>0.054032</td>\n",
       "      <td>0.0</td>\n",
       "      <td>0.0</td>\n",
       "      <td>...</td>\n",
       "      <td>0.0</td>\n",
       "      <td>0.0</td>\n",
       "      <td>0.0</td>\n",
       "      <td>0.000000</td>\n",
       "      <td>0.000000</td>\n",
       "      <td>0.0</td>\n",
       "      <td>0.000000</td>\n",
       "      <td>0.0</td>\n",
       "      <td>0.023866</td>\n",
       "      <td>0.000000</td>\n",
       "    </tr>\n",
       "    <tr>\n",
       "      <th>4</th>\n",
       "      <td>4899</td>\n",
       "      <td>0.404821</td>\n",
       "      <td>0.0</td>\n",
       "      <td>0.000000</td>\n",
       "      <td>0.0</td>\n",
       "      <td>0.0</td>\n",
       "      <td>0.000000</td>\n",
       "      <td>0.000000</td>\n",
       "      <td>0.0</td>\n",
       "      <td>0.0</td>\n",
       "      <td>...</td>\n",
       "      <td>0.0</td>\n",
       "      <td>0.0</td>\n",
       "      <td>0.0</td>\n",
       "      <td>0.000000</td>\n",
       "      <td>0.252259</td>\n",
       "      <td>0.0</td>\n",
       "      <td>0.222548</td>\n",
       "      <td>0.0</td>\n",
       "      <td>0.000000</td>\n",
       "      <td>0.000000</td>\n",
       "    </tr>\n",
       "  </tbody>\n",
       "</table>\n",
       "<p>5 rows × 26 columns</p>\n",
       "</div>"
      ],
      "text/plain": [
       "   doc_id   topic_0  topic_1   topic_2  topic_3  topic_4   topic_5   topic_6  \\\n",
       "0       6  0.000000      0.0  0.000000      0.0      0.0  0.000000  0.012208   \n",
       "1    4896  0.421206      0.0  0.370748      0.0      0.0  0.000000  0.000000   \n",
       "2    4897  0.000000      0.0  0.000000      0.0      0.0  0.701243  0.000000   \n",
       "3    4898  0.229552      0.0  0.197195      0.0      0.0  0.481303  0.054032   \n",
       "4    4899  0.404821      0.0  0.000000      0.0      0.0  0.000000  0.000000   \n",
       "\n",
       "   topic_7  topic_8  ...  topic_15  topic_16  topic_17  topic_18  topic_19  \\\n",
       "0      0.0      0.0  ...       0.0       0.0       0.0  0.000000  0.602529   \n",
       "1      0.0      0.0  ...       0.0       0.0       0.0  0.000000  0.000000   \n",
       "2      0.0      0.0  ...       0.0       0.0       0.0  0.277822  0.000000   \n",
       "3      0.0      0.0  ...       0.0       0.0       0.0  0.000000  0.000000   \n",
       "4      0.0      0.0  ...       0.0       0.0       0.0  0.000000  0.252259   \n",
       "\n",
       "   topic_20  topic_21  topic_22  topic_23  topic_24  \n",
       "0       0.0  0.308382       0.0  0.000000  0.000000  \n",
       "1       0.0  0.000000       0.0  0.000000  0.186023  \n",
       "2       0.0  0.000000       0.0  0.000000  0.000000  \n",
       "3       0.0  0.000000       0.0  0.023866  0.000000  \n",
       "4       0.0  0.222548       0.0  0.000000  0.000000  \n",
       "\n",
       "[5 rows x 26 columns]"
      ]
     },
     "execution_count": 26,
     "metadata": {},
     "output_type": "execute_result"
    }
   ],
   "source": [
    "topic_matrix = pd.DataFrame([get_lda_vector(text) for text in news['title'].values])\n",
    "topic_matrix.columns = ['topic_{}'.format(i) for i in range(25)]\n",
    "topic_matrix['doc_id'] = news['doc_id'].values\n",
    "topic_matrix = topic_matrix[['doc_id']+['topic_{}'.format(i) for i in range(25)]]\n",
    "topic_matrix.head(5)"
   ]
  },
  {
   "cell_type": "code",
   "execution_count": 27,
   "metadata": {
    "scrolled": true
   },
   "outputs": [
    {
     "data": {
      "text/html": [
       "<div>\n",
       "<style scoped>\n",
       "    .dataframe tbody tr th:only-of-type {\n",
       "        vertical-align: middle;\n",
       "    }\n",
       "\n",
       "    .dataframe tbody tr th {\n",
       "        vertical-align: top;\n",
       "    }\n",
       "\n",
       "    .dataframe thead th {\n",
       "        text-align: right;\n",
       "    }\n",
       "</style>\n",
       "<table border=\"1\" class=\"dataframe\">\n",
       "  <thead>\n",
       "    <tr style=\"text-align: right;\">\n",
       "      <th></th>\n",
       "      <th>uid</th>\n",
       "      <th>articles</th>\n",
       "    </tr>\n",
       "  </thead>\n",
       "  <tbody>\n",
       "    <tr>\n",
       "      <th>0</th>\n",
       "      <td>u105138</td>\n",
       "      <td>[293672, 293328, 293001, 293622, 293126, 1852]</td>\n",
       "    </tr>\n",
       "    <tr>\n",
       "      <th>1</th>\n",
       "      <td>u108690</td>\n",
       "      <td>[3405, 1739, 2972, 1158, 1599, 322665]</td>\n",
       "    </tr>\n",
       "    <tr>\n",
       "      <th>2</th>\n",
       "      <td>u108339</td>\n",
       "      <td>[1845, 2009, 2356, 1424, 2939, 323389]</td>\n",
       "    </tr>\n",
       "  </tbody>\n",
       "</table>\n",
       "</div>"
      ],
      "text/plain": [
       "       uid                                        articles\n",
       "0  u105138  [293672, 293328, 293001, 293622, 293126, 1852]\n",
       "1  u108690          [3405, 1739, 2972, 1158, 1599, 322665]\n",
       "2  u108339          [1845, 2009, 2356, 1424, 2939, 323389]"
      ]
     },
     "execution_count": 27,
     "metadata": {},
     "output_type": "execute_result"
    }
   ],
   "source": [
    "users.head(3)"
   ]
  },
  {
   "cell_type": "code",
   "execution_count": 28,
   "metadata": {},
   "outputs": [],
   "source": [
    "doc_dict = dict(zip(topic_matrix['doc_id'].values, topic_matrix[['topic_{}'.format(i) for i in range(25)]].values))"
   ]
  },
  {
   "cell_type": "code",
   "execution_count": 29,
   "metadata": {},
   "outputs": [
    {
     "data": {
      "text/plain": [
       "array([0.        , 0.        , 0.06376936, 0.        , 0.03589928,\n",
       "       0.        , 0.        , 0.07039528, 0.        , 0.        ,\n",
       "       0.        , 0.        , 0.        , 0.0642123 , 0.21934968,\n",
       "       0.        , 0.        , 0.        , 0.        , 0.        ,\n",
       "       0.16557053, 0.        , 0.05162129, 0.11968736, 0.19992943])"
      ]
     },
     "execution_count": 29,
     "metadata": {},
     "output_type": "execute_result"
    }
   ],
   "source": [
    "doc_dict[293622]"
   ]
  },
  {
   "cell_type": "code",
   "execution_count": 30,
   "metadata": {},
   "outputs": [
    {
     "data": {
      "text/plain": [
       "3.2188758248682006"
      ]
     },
     "execution_count": 30,
     "metadata": {},
     "output_type": "execute_result"
    }
   ],
   "source": [
    "from math import log\n",
    "doc_weight_dict = {}\n",
    "max_weight = 0\n",
    "for (doc_id, topics) in doc_dict.items():\n",
    "    weight = doc_weight_dict[doc_id] = log(len(topics)/np.count_nonzero(topics))\n",
    "    if max_weight < weight:\n",
    "        max_weight = weight\n",
    "max_weight"
   ]
  },
  {
   "cell_type": "code",
   "execution_count": 31,
   "metadata": {},
   "outputs": [],
   "source": [
    "user_articles_list = users['articles'].iloc[33]\n",
    "\n",
    "def get_user_embedding(user_articles_list, aggregate = None, use_doc_weights = False):\n",
    "    user_articles_list = eval(user_articles_list)\n",
    "    user_vector = np.array([doc_dict[doc_id] * (doc_weight_dict[doc_id] if use_doc_weights else 1) for doc_id in user_articles_list])\n",
    "    if aggregate == None:\n",
    "        aggregate = lambda x: np.mean(x, 0)\n",
    "    user_vector = aggregate(user_vector)\n",
    "    return user_vector"
   ]
  },
  {
   "cell_type": "code",
   "execution_count": 32,
   "metadata": {},
   "outputs": [
    {
     "data": {
      "text/plain": [
       "array([0.09362507, 0.        , 0.        , 0.00174119, 0.0358265 ,\n",
       "       0.02157627, 0.00671575, 0.32721255, 0.09100275, 0.        ,\n",
       "       0.        , 0.        , 0.00267605, 0.0087274 , 0.        ,\n",
       "       0.03638969, 0.00999521, 0.00315013, 0.        , 0.04405884,\n",
       "       0.1165951 , 0.08318981, 0.07198617, 0.0078645 , 0.02690041])"
      ]
     },
     "execution_count": 32,
     "metadata": {},
     "output_type": "execute_result"
    }
   ],
   "source": [
    "get_user_embedding(user_articles_list)"
   ]
  },
  {
   "cell_type": "markdown",
   "metadata": {},
   "source": [
    "Теперь получим эмбединги для всех пользователей и проверим их качество на конкретной downstream-задаче"
   ]
  },
  {
   "cell_type": "code",
   "execution_count": 33,
   "metadata": {},
   "outputs": [],
   "source": [
    "def get_user_embeddings(users, aggregate, use_doc_weights = False):\n",
    "    user_embeddings = pd.DataFrame([i for i in users['articles'].apply(lambda x: get_user_embedding(x, aggregate, use_doc_weights), 1)])\n",
    "    user_embeddings.columns = ['topic_{}'.format(i) for i in range(25)]\n",
    "    user_embeddings['uid'] = users['uid'].values\n",
    "    user_embeddings = user_embeddings[['uid']+['topic_{}'.format(i) for i in range(25)]]\n",
    "    return user_embeddings\n"
   ]
  },
  {
   "cell_type": "code",
   "execution_count": 34,
   "metadata": {},
   "outputs": [
    {
     "data": {
      "text/html": [
       "<div>\n",
       "<style scoped>\n",
       "    .dataframe tbody tr th:only-of-type {\n",
       "        vertical-align: middle;\n",
       "    }\n",
       "\n",
       "    .dataframe tbody tr th {\n",
       "        vertical-align: top;\n",
       "    }\n",
       "\n",
       "    .dataframe thead th {\n",
       "        text-align: right;\n",
       "    }\n",
       "</style>\n",
       "<table border=\"1\" class=\"dataframe\">\n",
       "  <thead>\n",
       "    <tr style=\"text-align: right;\">\n",
       "      <th></th>\n",
       "      <th>uid</th>\n",
       "      <th>churn</th>\n",
       "    </tr>\n",
       "  </thead>\n",
       "  <tbody>\n",
       "    <tr>\n",
       "      <th>0</th>\n",
       "      <td>u107120</td>\n",
       "      <td>0</td>\n",
       "    </tr>\n",
       "    <tr>\n",
       "      <th>1</th>\n",
       "      <td>u102277</td>\n",
       "      <td>0</td>\n",
       "    </tr>\n",
       "    <tr>\n",
       "      <th>2</th>\n",
       "      <td>u102444</td>\n",
       "      <td>0</td>\n",
       "    </tr>\n",
       "  </tbody>\n",
       "</table>\n",
       "</div>"
      ],
      "text/plain": [
       "       uid  churn\n",
       "0  u107120      0\n",
       "1  u102277      0\n",
       "2  u102444      0"
      ]
     },
     "execution_count": 34,
     "metadata": {},
     "output_type": "execute_result"
    }
   ],
   "source": [
    "target = pd.read_csv(\"users_churn.csv\")\n",
    "target.head(3)"
   ]
  },
  {
   "cell_type": "code",
   "execution_count": 35,
   "metadata": {},
   "outputs": [],
   "source": [
    "from sklearn.linear_model import LogisticRegression\n",
    "from sklearn.model_selection import train_test_split\n",
    "from sklearn.metrics import f1_score, roc_auc_score, precision_score, classification_report, precision_recall_curve, confusion_matrix\n",
    "import matplotlib.pyplot as plt\n",
    "\n",
    "%matplotlib inline\n",
    "\n",
    "\n",
    "\n",
    "def train_and_predict(users, target, aggregate, use_doc_weights = False):\n",
    "    user_embeddings = get_user_embeddings(users, aggregate, use_doc_weights)\n",
    "    X = pd.merge(user_embeddings, target, 'left')\n",
    "#    display(X.head(3))\n",
    "    X_train, X_test, y_train, y_test = train_test_split(X[['topic_{}'.format(i) for i in range(25)]], \n",
    "                                                    X['churn'], random_state=0)\n",
    "    logreg = LogisticRegression()\n",
    "    logreg.fit(X_train, y_train)\n",
    "    return (y_test, logreg.predict_proba(X_test)[:, 1])\n",
    "\n",
    "\n",
    "import itertools\n",
    "\n",
    "def plot_confusion_matrix(cm, classes,\n",
    "                          normalize=False,\n",
    "                          title='Confusion matrix',\n",
    "                          cmap=plt.cm.Blues):\n",
    "    \"\"\"\n",
    "    This function prints and plots the confusion matrix.\n",
    "    Normalization can be applied by setting `normalize=True`.\n",
    "    \"\"\"\n",
    "    plt.imshow(cm, interpolation='nearest', cmap=cmap)\n",
    "    plt.title(title)\n",
    "    plt.colorbar()\n",
    "    tick_marks = np.arange(len(classes))\n",
    "    plt.xticks(tick_marks, classes, rotation=45)\n",
    "    plt.yticks(tick_marks, classes)\n",
    "\n",
    "    if normalize:\n",
    "        cm = cm.astype('float') / cm.sum(axis=1)[:, np.newaxis]\n",
    "        print(\"Normalized confusion matrix\")\n",
    "    else:\n",
    "        print('Confusion matrix, without normalization')\n",
    "\n",
    "    print(cm)\n",
    "\n",
    "    thresh = cm.max() / 2.\n",
    "    for i, j in itertools.product(range(cm.shape[0]), range(cm.shape[1])):\n",
    "        plt.text(j, i, cm[i, j],\n",
    "                 horizontalalignment=\"center\",\n",
    "                 color=\"white\" if cm[i, j] > thresh else \"black\")\n",
    "\n",
    "    plt.tight_layout()\n",
    "    plt.ylabel('True label')\n",
    "    plt.xlabel('Predicted label')\n",
    "\n",
    "def show_metrics(y_test, preds):\n",
    "    precision, recall, thresholds = precision_recall_curve(y_test, preds)\n",
    "    fscore = (2 * precision * recall) / (precision + recall)\n",
    "    # locate the index of the largest f score\n",
    "    ix = np.argmax(fscore)\n",
    "    metrics = (thresholds[ix], fscore[ix], precision[ix], recall[ix], roc_auc_score(y_test, preds))\n",
    "    metrics += ('Best Threshold=%f, F-Score=%.3f, Precision=%.3f, Recall=%.3f, ROC-AUC-Score=%.3f' % metrics,)\n",
    "    print(metrics[-1])\n",
    "    \n",
    "    font = {'size' : 15}\n",
    "\n",
    "    plt.rc('font', **font)\n",
    "\n",
    "    cnf_matrix = confusion_matrix(y_test, preds>thresholds[ix])\n",
    "    plt.figure(figsize=(10, 8))\n",
    "    plot_confusion_matrix(cnf_matrix, classes=['Non-Churn', 'churn'],\n",
    "                      title='Confusion matrix')\n",
    "    plt.savefig(\"conf_matrix.png\")\n",
    "    plt.show()\n",
    "    return metrics\n",
    "    \n",
    "all_metrics = []"
   ]
  },
  {
   "cell_type": "code",
   "execution_count": 36,
   "metadata": {},
   "outputs": [
    {
     "name": "stdout",
     "output_type": "stream",
     "text": [
      "Best Threshold=0.242318, F-Score=0.640, Precision=0.584, Recall=0.706, ROC-AUC-Score=0.935\n",
      "Confusion matrix, without normalization\n",
      "[[1632  123]\n",
      " [  73  172]]\n"
     ]
    },
    {
     "data": {
      "image/png": "[encoded data removed]",
      "text/plain": [
       "<Figure size 720x576 with 2 Axes>"
      ]
     },
     "metadata": {
      "needs_background": "light"
     },
     "output_type": "display_data"
    }
   ],
   "source": [
    "#наши прогнозы для тестовой выборки - Среднее\n",
    "y_test, preds = train_and_predict(users, target, lambda x: np.mean(x, 0))\n",
    "all_metrics.append((\"Среднее\",) + show_metrics(y_test, preds))"
   ]
  },
  {
   "cell_type": "code",
   "execution_count": 37,
   "metadata": {},
   "outputs": [
    {
     "name": "stdout",
     "output_type": "stream",
     "text": [
      "Best Threshold=0.236252, F-Score=0.722, Precision=0.661, Recall=0.796, ROC-AUC-Score=0.961\n",
      "Confusion matrix, without normalization\n",
      "[[1655  100]\n",
      " [  51  194]]\n"
     ]
    },
    {
     "data": {
      "image/png": "[encoded data removed]",
      "text/plain": [
       "<Figure size 720x576 with 2 Axes>"
      ]
     },
     "metadata": {
      "needs_background": "light"
     },
     "output_type": "display_data"
    }
   ],
   "source": [
    "#наши прогнозы для тестовой выборки - Медиана\n",
    "y_test, preds = train_and_predict(users, target, lambda x: np.median(x, 0))\n",
    "all_metrics.append((\"Медиана\",) + show_metrics(y_test, preds))"
   ]
  },
  {
   "cell_type": "code",
   "execution_count": 38,
   "metadata": {},
   "outputs": [
    {
     "name": "stdout",
     "output_type": "stream",
     "text": [
      "Best Threshold=0.319546, F-Score=0.781, Precision=0.738, Recall=0.829, ROC-AUC-Score=0.966\n",
      "Confusion matrix, without normalization\n",
      "[[1683   72]\n",
      " [  43  202]]\n"
     ]
    },
    {
     "data": {
      "image/png": "[encoded data removed]",
      "text/plain": [
       "<Figure size 720x576 with 2 Axes>"
      ]
     },
     "metadata": {
      "needs_background": "light"
     },
     "output_type": "display_data"
    }
   ],
   "source": [
    "#наши прогнозы для тестовой выборки - Максимум\n",
    "y_test, preds = train_and_predict(users, target, lambda x: np.max(x, 0))\n",
    "all_metrics.append((\"Максимум\",) + show_metrics(y_test, preds))"
   ]
  },
  {
   "cell_type": "code",
   "execution_count": 39,
   "metadata": {},
   "outputs": [
    {
     "name": "stdout",
     "output_type": "stream",
     "text": [
      "Best Threshold=0.429683, F-Score=0.897, Precision=0.905, Recall=0.890, ROC-AUC-Score=0.989\n",
      "Confusion matrix, without normalization\n",
      "[[1732   23]\n",
      " [  28  217]]\n"
     ]
    },
    {
     "data": {
      "image/png": "[encoded data removed]",
      "text/plain": [
       "<Figure size 720x576 with 2 Axes>"
      ]
     },
     "metadata": {
      "needs_background": "light"
     },
     "output_type": "display_data"
    }
   ],
   "source": [
    "#наши прогнозы для тестовой выборки - Максимум, с idf-подобным весом документов (документы с меньшим числом тем имеют больший вес)\n",
    "y_test, preds = train_and_predict(users, target, lambda x: np.max(x, 0), True)\n",
    "all_metrics.append((\"Максимум\",) + show_metrics(y_test, preds))"
   ]
  },
  {
   "cell_type": "code",
   "execution_count": 40,
   "metadata": {},
   "outputs": [
    {
     "name": "stdout",
     "output_type": "stream",
     "text": [
      "Среднее: Best Threshold=0.242318, F-Score=0.640, Precision=0.584, Recall=0.706, ROC-AUC-Score=0.935\n",
      "Медиана: Best Threshold=0.236252, F-Score=0.722, Precision=0.661, Recall=0.796, ROC-AUC-Score=0.961\n",
      "Максимум: Best Threshold=0.319546, F-Score=0.781, Precision=0.738, Recall=0.829, ROC-AUC-Score=0.966\n",
      "Максимум: Best Threshold=0.429683, F-Score=0.897, Precision=0.905, Recall=0.890, ROC-AUC-Score=0.989\n"
     ]
    }
   ],
   "source": [
    "for m in all_metrics:\n",
    "    print(f'{m[0]}: {m[-1]}')"
   ]
  },
  {
   "cell_type": "markdown",
   "metadata": {},
   "source": [
    "### Выводы ###\n",
    "* Наилучший результат (без idf-поднобных весов) был получен с аггрегированием по max, вероятно потому что выделяет интересующие пользователя темы уже за счет прочтения какой-нибудь статьи с наибольшей ассоциацией с темой. Использование среднего, наоборот, уменьшает связь пользователя с темой за счет чтения статей по другим темам, что кажется неправильным.  \n",
    "* Выбор тем и итоговое качество сильно зависело от случайной инициализации, зафиксировала для предсказуемости с помощью random_state. Но были и лучше результаты, в том числе с медианой, повторить не могу\n",
    "* Использование idf-подобного веса документов (документы с меньшим числом тем получают больший вес) привело к существенному улучшению качества."
   ]
  },
  {
   "cell_type": "markdown",
   "metadata": {},
   "source": [
    "### Домашнее задание"
   ]
  },
  {
   "cell_type": "markdown",
   "metadata": {},
   "source": [
    "1. Самостоятельно разобраться с тем, что такое tfidf (документация https://scikit-learn.org/stable/modules/generated/sklearn.feature_extraction.text.TfidfVectorizer.html и еще - https://scikit-learn.org/stable/modules/feature_extraction.html#text-feature-extraction)\n",
    "2. Модифицировать код функции get_user_embedding таким образом, чтобы считалось не среднее (как в примере np.mean), а медиана. Применить такое преобразование к данным, обучить модель прогнозирования оттока и посчитать метрики качества и сохранить их: roc auc, precision/recall/f_score (для 3 последних - подобрать оптимальный порог с помощью precision_recall_curve, как это делалось на уроке)\n",
    "3. Повторить п.2, но используя уже не медиану, а max\n",
    "4. (опциональное, если очень хочется) Воспользовавшись полученными знаниями из п.1, повторить пункт 2, но уже взвешивая новости по tfidf (подсказка: нужно получить веса-коэффициенты для каждого документа. Не все документы одинаково информативны и несут какой-то положительный сигнал). Подсказка 2 - нужен именно idf, как вес.\n",
    "5. Сформировать на выходе единую таблицу, сравнивающую качество 3 разных метода получения эмбедингов пользователей: mean, median, max, idf_mean по метрикам roc_auc, precision, recall, f_score\n",
    "6. Сделать самостоятельные выводы и предположения о том, почему тот или ной способ оказался эффективнее остальных"
   ]
  },
  {
   "cell_type": "markdown",
   "metadata": {},
   "source": [
    "#### Ссылки"
   ]
  },
  {
   "cell_type": "markdown",
   "metadata": {},
   "source": [
    "1. http://www.machinelearning.ru/wiki/images/d/d5/Voron17survey-artm.pdf\n",
    "2. https://en.wikipedia.org/wiki/Latent_Dirichlet_allocation"
   ]
  },
  {
   "cell_type": "markdown",
   "metadata": {},
   "source": [
    "#### Библиотеки, которые нужно установить:\n",
    "\n",
    "1. gensim\n",
    "2. razdel\n",
    "3. pymorphy2\n",
    "4. nltk"
   ]
  },
  {
   "cell_type": "code",
   "execution_count": null,
   "metadata": {},
   "outputs": [],
   "source": []
  }
 ],
 "metadata": {
  "kernelspec": {
   "display_name": "Python 3",
   "language": "python",
   "name": "python3"
  },
  "language_info": {
   "codemirror_mode": {
    "name": "ipython",
    "version": 3
   },
   "file_extension": ".py",
   "mimetype": "text/x-python",
   "name": "python",
   "nbconvert_exporter": "python",
   "pygments_lexer": "ipython3",
   "version": "3.7.6"
  }
 },
 "nbformat": 4,
 "nbformat_minor": 2
}
